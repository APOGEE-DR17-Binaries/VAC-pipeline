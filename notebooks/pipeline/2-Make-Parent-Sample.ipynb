{
 "cells": [
  {
   "cell_type": "code",
   "execution_count": 2,
   "metadata": {
    "ExecuteTime": {
     "end_time": "2021-04-09T17:10:02.534030Z",
     "start_time": "2021-04-09T17:10:01.455883Z"
    }
   },
   "outputs": [],
   "source": [
    "import os\n",
    "import pathlib\n",
    "\n",
    "import astropy.table as at\n",
    "import astropy.units as u\n",
    "import matplotlib as mpl\n",
    "import matplotlib.pyplot as plt\n",
    "%matplotlib inline\n",
    "import numpy as np"
   ]
  },
  {
   "cell_type": "code",
   "execution_count": 3,
   "metadata": {
    "ExecuteTime": {
     "end_time": "2021-04-09T17:10:02.537443Z",
     "start_time": "2021-04-09T17:10:02.535380Z"
    }
   },
   "outputs": [],
   "source": [
    "min_nvisits = 3"
   ]
  },
  {
   "cell_type": "code",
   "execution_count": 4,
   "metadata": {
    "ExecuteTime": {
     "end_time": "2021-04-09T17:10:02.545209Z",
     "start_time": "2021-04-09T17:10:02.538835Z"
    }
   },
   "outputs": [],
   "source": [
    "allstar_file = pathlib.Path(\n",
    "    '/mnt/home/apricewhelan/data/APOGEE_DR17/allStar-dr17-synspec.fits')\n",
    "allvisit_file = pathlib.Path(\n",
    "    '/mnt/home/apricewhelan/data/APOGEE_DR17/allVisit-dr17-synspec.fits')\n",
    "\n",
    "calib_verr_file = pathlib.Path(\n",
    "    '../cache/allVisit-dr17-synspec-calib-verr.fits')"
   ]
  },
  {
   "cell_type": "code",
   "execution_count": 6,
   "metadata": {
    "ExecuteTime": {
     "end_time": "2021-04-09T17:12:13.133507Z",
     "start_time": "2021-04-09T17:12:00.015470Z"
    }
   },
   "outputs": [
    {
     "name": "stderr",
     "output_type": "stream",
     "text": [
      "WARNING: hdu= was not specified but multiple tables are present, reading in first available table (hdu=1) [astropy.io.fits.connect]\n"
     ]
    }
   ],
   "source": [
    "allstar = at.Table.read(allstar_file)\n",
    "allvisit = at.Table.read(allvisit_file)\n",
    "verr = at.Table.read(calib_verr_file)"
   ]
  },
  {
   "cell_type": "code",
   "execution_count": 7,
   "metadata": {
    "ExecuteTime": {
     "end_time": "2021-04-09T17:12:17.958273Z",
     "start_time": "2021-04-09T17:12:13.999278Z"
    }
   },
   "outputs": [
    {
     "name": "stdout",
     "output_type": "stream",
     "text": [
      "Filtered 83879 bad/NaN/-9999 visits\n"
     ]
    }
   ],
   "source": [
    "# Remove bad velocities / NaN / Inf values:\n",
    "bad_visit_mask = (\n",
    "    np.isfinite(allvisit['VHELIO']) &\n",
    "    np.isfinite(allvisit['VRELERR']) &\n",
    "    (allvisit['VRELERR'] < 100.) &\n",
    "    (allvisit['VHELIO'] != -9999) &\n",
    "    (np.abs(allvisit['VHELIO']) < 500.)\n",
    ")\n",
    "print(f\"Filtered {len(bad_visit_mask) - bad_visit_mask.sum()} \"\n",
    "      \"bad/NaN/-9999 visits\")\n",
    "allvisit = allvisit[bad_visit_mask]"
   ]
  },
  {
   "cell_type": "code",
   "execution_count": 8,
   "metadata": {
    "ExecuteTime": {
     "end_time": "2021-04-09T17:12:55.326300Z",
     "start_time": "2021-04-09T17:12:55.289167Z"
    }
   },
   "outputs": [
    {
     "name": "stdout",
     "output_type": "stream",
     "text": [
      "Using allstar STARFLAG bitmask 8192008), filtered 15572 sources\n",
      "Using allvisit STARFLAG bitmask 8192008), filtered 244844 visits\n"
     ]
    }
   ],
   "source": [
    "starflag_bits = np.array([\n",
    "    3,   # VERY_BRIGHT_NEIGHBOR\n",
    "    16,  # SUSPECT_RV_COMBINATION\n",
    "    18,  # BAD_RV_COMBINATION\n",
    "    19,  # RV_REJECT\n",
    "    20,  # RV_SUSPECT\n",
    "    21,  # MULTIPLE_SUSPECT\n",
    "    22   # RV_FAIL\n",
    "])\n",
    "starflag_bitmask = np.sum(2**starflag_bits)\n",
    "\n",
    "star_starflag_mask = (allstar['STARFLAG'] & starflag_bitmask) == 0\n",
    "visit_starflag_mask = (allvisit['STARFLAG'] & starflag_bitmask) == 0\n",
    "\n",
    "print(f\"Using allstar STARFLAG bitmask {starflag_bitmask}), \"\n",
    "      f\"filtered {len(allstar) - star_starflag_mask.sum()} sources\")\n",
    "print(f\"Using allvisit STARFLAG bitmask {starflag_bitmask}), \"\n",
    "      f\"filtered {len(allvisit) - visit_starflag_mask.sum()} visits\")"
   ]
  },
  {
   "cell_type": "code",
   "execution_count": 9,
   "metadata": {
    "ExecuteTime": {
     "end_time": "2021-04-09T17:13:05.904586Z",
     "start_time": "2021-04-09T17:13:03.913388Z"
    }
   },
   "outputs": [
    {
     "name": "stdout",
     "output_type": "stream",
     "text": [
      "Applying allvisit RVFLAG mask 3962, filtered 222813 visits\n",
      "Keeping only sources with > 3 visits: filtered 302476 sources\n"
     ]
    }
   ],
   "source": [
    "rvflag_bits = np.array([\n",
    "    1,  # RV_BCFIT_FAIL\n",
    "    3,  # RV_WINDOW_MASK\n",
    "    4,  # RV_VALUE_ERROR\n",
    "    5,  # RV_RUNTIME_ERROR\n",
    "    6,  # RV_ERROR\n",
    "    8,  # NO_GOOD_VISITS\n",
    "    9,  # ALL_VISITS_REJECTED\n",
    "    10,  # RV_REJECT\n",
    "    11,  # RV_SUSPECT\n",
    "])\n",
    "rvflag_bitmask = np.sum(2**rvflag_bits)\n",
    "rvflag_mask = (allvisit['RV_FLAG'] & rvflag_bitmask) == 0\n",
    "\n",
    "print(f\"Applying allvisit RVFLAG mask {rvflag_bitmask}, filtered \"\n",
    "      f\"{len(allvisit) - rvflag_mask.sum()} visits\")\n",
    "\n",
    "# After quality and bitmask cut, figure out what APOGEE_IDs remain\n",
    "allvisit = allvisit[visit_starflag_mask & rvflag_mask]\n",
    "v_apogee_ids, counts = np.unique(allvisit['APOGEE_ID'],\n",
    "                                 return_counts=True)\n",
    "allstar_visit_mask = np.isin(allstar['APOGEE_ID'],\n",
    "                             v_apogee_ids[counts >= min_nvisits])\n",
    "print(f\"Keeping only sources with > {min_nvisits} visits: filtered \"\n",
    "      f\"{len(allstar_visit_mask) - allstar_visit_mask.sum()} sources\")"
   ]
  },
  {
   "cell_type": "code",
   "execution_count": 10,
   "metadata": {
    "ExecuteTime": {
     "end_time": "2021-04-09T17:13:22.011185Z",
     "start_time": "2021-04-09T17:13:14.094917Z"
    }
   },
   "outputs": [
    {
     "name": "stdout",
     "output_type": "stream",
     "text": [
      "Using allstar ASPCAPFLAG bitmask 8388608, filtered 42266\n"
     ]
    }
   ],
   "source": [
    "# STAR_BAD\n",
    "aspcapflag_bits = [23]\n",
    "\n",
    "aspcapflag_val = np.sum(2 ** np.array(aspcapflag_bits))\n",
    "aspcapflag_mask = (allstar['ASPCAPFLAG'] & aspcapflag_val) == 0\n",
    "print(f\"Using allstar ASPCAPFLAG bitmask {aspcapflag_val}, \"\n",
    "      f\"filtered {len(allstar) - aspcapflag_mask.sum()}\")\n",
    "\n",
    "allstar = allstar[allstar_visit_mask &\n",
    "                  star_starflag_mask &\n",
    "                  aspcapflag_mask]\n",
    "\n",
    "# Only load visits for stars that we're loading\n",
    "allvisit = allvisit[np.isin(allvisit['APOGEE_ID'],\n",
    "                            allstar['APOGEE_ID'])]\n",
    "v_apogee_ids2 = np.unique(allvisit['APOGEE_ID'])\n",
    "star_mask2 = np.isin(allstar['APOGEE_ID'], v_apogee_ids2)\n",
    "allstar = allstar[star_mask2]\n",
    "\n",
    "_, idx = np.unique(allstar['APOGEE_ID'], return_index=True)\n",
    "allstar = allstar[idx]\n",
    "\n",
    "allvisit = allvisit[np.isin(allvisit['APOGEE_ID'],\n",
    "                            allstar['APOGEE_ID'])]"
   ]
  },
  {
   "cell_type": "code",
   "execution_count": 11,
   "metadata": {
    "ExecuteTime": {
     "end_time": "2021-04-09T17:13:51.660804Z",
     "start_time": "2021-04-09T17:13:43.755914Z"
    }
   },
   "outputs": [],
   "source": [
    "allvisit = at.join(allvisit, verr, keys='VISIT_ID')"
   ]
  },
  {
   "cell_type": "markdown",
   "metadata": {},
   "source": [
    "Final check for min nvisits:"
   ]
  },
  {
   "cell_type": "code",
   "execution_count": 12,
   "metadata": {
    "ExecuteTime": {
     "end_time": "2021-04-09T17:13:54.366634Z",
     "start_time": "2021-04-09T17:13:51.662291Z"
    }
   },
   "outputs": [],
   "source": [
    "v_apogee_ids, counts = np.unique(allvisit['APOGEE_ID'],\n",
    "                                 return_counts=True)\n",
    "allstar_visit_mask = np.isin(allstar['APOGEE_ID'],\n",
    "                             v_apogee_ids[counts >= min_nvisits])\n",
    "allstar = allstar[allstar_visit_mask]\n",
    "allvisit = allvisit[np.isin(allvisit['APOGEE_ID'],\n",
    "                            allstar['APOGEE_ID'])]"
   ]
  },
  {
   "cell_type": "code",
   "execution_count": 13,
   "metadata": {
    "ExecuteTime": {
     "end_time": "2021-04-09T17:13:54.370846Z",
     "start_time": "2021-04-09T17:13:54.368113Z"
    }
   },
   "outputs": [
    {
     "name": "stdout",
     "output_type": "stream",
     "text": [
      "360692 unique stars left\n",
      "1931336 unique visits left\n"
     ]
    }
   ],
   "source": [
    "print(f\"{len(allstar)} unique stars left\")\n",
    "print(f\"{len(allvisit)} unique visits left\")"
   ]
  },
  {
   "cell_type": "code",
   "execution_count": 14,
   "metadata": {
    "ExecuteTime": {
     "end_time": "2021-04-09T17:14:11.776297Z",
     "start_time": "2021-04-09T17:14:11.226511Z"
    }
   },
   "outputs": [],
   "source": [
    "assert np.all(np.unique(allvisit['APOGEE_ID'], return_counts=True)[1] >= 3)"
   ]
  },
  {
   "cell_type": "code",
   "execution_count": 15,
   "metadata": {
    "ExecuteTime": {
     "end_time": "2021-04-09T17:14:17.484445Z",
     "start_time": "2021-04-09T17:14:17.481646Z"
    }
   },
   "outputs": [],
   "source": [
    "colnames = [\n",
    "    'APOGEE_ID',\n",
    "    'TARGET_ID',\n",
    "    'VISIT_ID',\n",
    "    'FILE',\n",
    "    'FIBERID',\n",
    "    'CARTID',\n",
    "    'PLATE',\n",
    "    'MJD',\n",
    "    'TELESCOPE',\n",
    "    'SURVEY',\n",
    "    'FIELD',\n",
    "    'SNR',\n",
    "    'STARFLAG',\n",
    "    'STARFLAGS',\n",
    "    'JD',\n",
    "    'VREL',\n",
    "    'VRELERR',\n",
    "    'VHELIO',\n",
    "    'AUTOFWHM',\n",
    "    'BC',\n",
    "    'N_COMPONENTS',\n",
    "    'RV_FLAG',\n",
    "    'CALIB_VERR'\n",
    "]"
   ]
  },
  {
   "cell_type": "code",
   "execution_count": 16,
   "metadata": {
    "ExecuteTime": {
     "end_time": "2021-04-09T17:14:17.897997Z",
     "start_time": "2021-04-09T17:14:17.895229Z"
    }
   },
   "outputs": [],
   "source": [
    "# weird hack\n",
    "allvisit.meta = None"
   ]
  },
  {
   "cell_type": "code",
   "execution_count": 17,
   "metadata": {
    "ExecuteTime": {
     "end_time": "2021-04-09T17:14:38.535892Z",
     "start_time": "2021-04-09T17:14:21.898151Z"
    }
   },
   "outputs": [],
   "source": [
    "basename = os.path.splitext(allvisit_file.parts[-1])[0]\n",
    "allvisit[colnames].write(\n",
    "    f'../cache/{basename}-min{min_nvisits}-calibverr.fits',\n",
    "    overwrite=True)"
   ]
  },
  {
   "cell_type": "code",
   "execution_count": null,
   "metadata": {},
   "outputs": [],
   "source": []
  }
 ],
 "metadata": {
  "kernelspec": {
   "display_name": "conda-dr17",
   "language": "python",
   "name": "conda-dr17"
  },
  "language_info": {
   "codemirror_mode": {
    "name": "ipython",
    "version": 3
   },
   "file_extension": ".py",
   "mimetype": "text/x-python",
   "name": "python",
   "nbconvert_exporter": "python",
   "pygments_lexer": "ipython3",
   "version": "3.8.5"
  }
 },
 "nbformat": 4,
 "nbformat_minor": 4
}
