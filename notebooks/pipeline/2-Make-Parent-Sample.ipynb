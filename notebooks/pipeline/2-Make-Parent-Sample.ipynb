{
 "cells": [
  {
   "cell_type": "code",
   "execution_count": 1,
   "metadata": {
    "ExecuteTime": {
     "end_time": "2021-05-10T23:17:22.576180Z",
     "start_time": "2021-05-10T23:17:21.899973Z"
    }
   },
   "outputs": [],
   "source": [
    "import os\n",
    "import pathlib\n",
    "\n",
    "import astropy.table as at\n",
    "import astropy.units as u\n",
    "import matplotlib as mpl\n",
    "import matplotlib.pyplot as plt\n",
    "%matplotlib inline\n",
    "import numpy as np"
   ]
  },
  {
   "cell_type": "code",
   "execution_count": 2,
   "metadata": {
    "ExecuteTime": {
     "end_time": "2021-05-10T23:17:22.961292Z",
     "start_time": "2021-05-10T23:17:22.959127Z"
    }
   },
   "outputs": [],
   "source": [
    "min_nvisits = 3"
   ]
  },
  {
   "cell_type": "code",
   "execution_count": 3,
   "metadata": {
    "ExecuteTime": {
     "end_time": "2021-05-10T23:17:23.342961Z",
     "start_time": "2021-05-10T23:17:23.340820Z"
    }
   },
   "outputs": [],
   "source": [
    "allstar_file = pathlib.Path(\n",
    "    '/mnt/home/apricewhelan/data/APOGEE_DR17/allStar-dr17-synspec.fits')\n",
    "allvisit_file = pathlib.Path(\n",
    "    '/mnt/home/apricewhelan/data/APOGEE_DR17/allVisit-dr17-synspec.fits')\n",
    "\n",
    "calib_verr_file = pathlib.Path(\n",
    "    '../../cache/allVisit-dr17-synspec-calib-verr.fits')"
   ]
  },
  {
   "cell_type": "code",
   "execution_count": 4,
   "metadata": {
    "ExecuteTime": {
     "end_time": "2021-05-10T23:17:37.973767Z",
     "start_time": "2021-05-10T23:17:31.839109Z"
    }
   },
   "outputs": [
    {
     "name": "stderr",
     "output_type": "stream",
     "text": [
      "WARNING: hdu= was not specified but multiple tables are present, reading in first available table (hdu=1) [astropy.io.fits.connect]\n"
     ]
    }
   ],
   "source": [
    "main_allstar = at.Table.read(allstar_file, hdu=1)\n",
    "main_allvisit = at.Table.read(allvisit_file, hdu=1)\n",
    "verr = at.Table.read(calib_verr_file, hdu=1)"
   ]
  },
  {
   "cell_type": "code",
   "execution_count": 7,
   "metadata": {
    "ExecuteTime": {
     "end_time": "2021-05-10T23:18:31.167687Z",
     "start_time": "2021-05-10T23:18:22.773735Z"
    }
   },
   "outputs": [
    {
     "name": "stdout",
     "output_type": "stream",
     "text": [
      "Filtered 83879 bad/NaN/-9999 visits\n"
     ]
    }
   ],
   "source": [
    "# Remove bad velocities / NaN / Inf values:\n",
    "bad_visit_mask = (\n",
    "    np.isfinite(main_allvisit['VHELIO']) &\n",
    "    np.isfinite(main_allvisit['VRELERR']) &\n",
    "    (main_allvisit['VRELERR'] < 100.) &\n",
    "    (main_allvisit['VHELIO'] != -9999) &\n",
    "    (np.abs(main_allvisit['VHELIO']) < 500.)\n",
    ")\n",
    "print(f\"Filtered {len(bad_visit_mask) - bad_visit_mask.sum()} \"\n",
    "      \"bad/NaN/-9999 visits\")\n",
    "allvisit = main_allvisit[bad_visit_mask]\n",
    "allstar = main_allstar[np.isin(main_allstar['APOGEE_ID'], allvisit['APOGEE_ID'])]"
   ]
  },
  {
   "cell_type": "code",
   "execution_count": 8,
   "metadata": {
    "ExecuteTime": {
     "end_time": "2021-05-10T23:18:35.941616Z",
     "start_time": "2021-05-10T23:18:35.922289Z"
    }
   },
   "outputs": [
    {
     "name": "stdout",
     "output_type": "stream",
     "text": [
      "Using allstar STARFLAG bitmask 8192008), filtered 14500 sources\n",
      "Using allvisit STARFLAG bitmask 8192008), filtered 244844 visits\n"
     ]
    }
   ],
   "source": [
    "starflag_bits = np.array([\n",
    "    3,   # VERY_BRIGHT_NEIGHBOR\n",
    "    16,  # SUSPECT_RV_COMBINATION\n",
    "    18,  # BAD_RV_COMBINATION\n",
    "    19,  # RV_REJECT\n",
    "    20,  # RV_SUSPECT\n",
    "    21,  # MULTIPLE_SUSPECT\n",
    "    22   # RV_FAIL\n",
    "])\n",
    "starflag_bitmask = np.sum(2**starflag_bits)\n",
    "\n",
    "star_starflag_mask = (allstar['STARFLAG'] & starflag_bitmask) == 0\n",
    "visit_starflag_mask = (allvisit['STARFLAG'] & starflag_bitmask) == 0\n",
    "\n",
    "print(f\"Using allstar STARFLAG bitmask {starflag_bitmask}), \"\n",
    "      f\"filtered {len(allstar) - star_starflag_mask.sum()} sources\")\n",
    "print(f\"Using allvisit STARFLAG bitmask {starflag_bitmask}), \"\n",
    "      f\"filtered {len(allvisit) - visit_starflag_mask.sum()} visits\")"
   ]
  },
  {
   "cell_type": "code",
   "execution_count": 9,
   "metadata": {
    "ExecuteTime": {
     "end_time": "2021-05-10T23:18:44.633861Z",
     "start_time": "2021-05-10T23:18:42.640926Z"
    }
   },
   "outputs": [
    {
     "name": "stdout",
     "output_type": "stream",
     "text": [
      "Applying allvisit RVFLAG mask 3962, filtered 222813 visits\n",
      "Keeping only sources with > 3 visits: filtered 295362 sources\n"
     ]
    }
   ],
   "source": [
    "rvflag_bits = np.array([\n",
    "    1,  # RV_BCFIT_FAIL\n",
    "    3,  # RV_WINDOW_MASK\n",
    "    4,  # RV_VALUE_ERROR\n",
    "    5,  # RV_RUNTIME_ERROR\n",
    "    6,  # RV_ERROR\n",
    "    8,  # NO_GOOD_VISITS\n",
    "    9,  # ALL_VISITS_REJECTED\n",
    "    10,  # RV_REJECT\n",
    "    11,  # RV_SUSPECT\n",
    "])\n",
    "rvflag_bitmask = np.sum(2**rvflag_bits)\n",
    "rvflag_mask = (allvisit['RV_FLAG'] & rvflag_bitmask) == 0\n",
    "\n",
    "print(f\"Applying allvisit RVFLAG mask {rvflag_bitmask}, filtered \"\n",
    "      f\"{len(allvisit) - rvflag_mask.sum()} visits\")\n",
    "\n",
    "# After quality and bitmask cut, figure out what APOGEE_IDs remain\n",
    "allvisit = allvisit[visit_starflag_mask & rvflag_mask]\n",
    "v_apogee_ids, counts = np.unique(allvisit['APOGEE_ID'],\n",
    "                                 return_counts=True)\n",
    "allstar_visit_mask = np.isin(allstar['APOGEE_ID'],\n",
    "                             v_apogee_ids[counts >= min_nvisits])\n",
    "print(f\"Keeping only sources with > {min_nvisits} visits: filtered \"\n",
    "      f\"{len(allstar_visit_mask) - allstar_visit_mask.sum()} sources\")"
   ]
  },
  {
   "cell_type": "code",
   "execution_count": 10,
   "metadata": {
    "ExecuteTime": {
     "end_time": "2021-05-10T23:18:50.955906Z",
     "start_time": "2021-05-10T23:18:44.635369Z"
    }
   },
   "outputs": [
    {
     "name": "stdout",
     "output_type": "stream",
     "text": [
      "Using allstar ASPCAPFLAG bitmask 8388608, filtered 35588\n"
     ]
    }
   ],
   "source": [
    "# STAR_BAD\n",
    "aspcapflag_bits = [23]\n",
    "\n",
    "aspcapflag_val = np.sum(2 ** np.array(aspcapflag_bits))\n",
    "aspcapflag_mask = (allstar['ASPCAPFLAG'] & aspcapflag_val) == 0\n",
    "print(f\"Using allstar ASPCAPFLAG bitmask {aspcapflag_val}, \"\n",
    "      f\"filtered {len(allstar) - aspcapflag_mask.sum()}\")\n",
    "\n",
    "allstar = allstar[allstar_visit_mask &\n",
    "                  star_starflag_mask &\n",
    "                  aspcapflag_mask]\n",
    "\n",
    "# Only load visits for stars that we're loading\n",
    "allvisit = allvisit[np.isin(allvisit['APOGEE_ID'],\n",
    "                            allstar['APOGEE_ID'])]\n",
    "v_apogee_ids2 = np.unique(allvisit['APOGEE_ID'])\n",
    "star_mask2 = np.isin(allstar['APOGEE_ID'], v_apogee_ids2)\n",
    "allstar = allstar[star_mask2]\n",
    "\n",
    "_, idx = np.unique(allstar['APOGEE_ID'], return_index=True)\n",
    "allstar = allstar[idx]\n",
    "\n",
    "allvisit = allvisit[np.isin(allvisit['APOGEE_ID'],\n",
    "                            allstar['APOGEE_ID'])]"
   ]
  },
  {
   "cell_type": "code",
   "execution_count": 11,
   "metadata": {
    "ExecuteTime": {
     "end_time": "2021-05-10T23:18:58.588822Z",
     "start_time": "2021-05-10T23:18:50.959340Z"
    }
   },
   "outputs": [],
   "source": [
    "allvisit = at.join(allvisit, verr, keys='VISIT_ID')"
   ]
  },
  {
   "cell_type": "markdown",
   "metadata": {},
   "source": [
    "Final check for min nvisits:"
   ]
  },
  {
   "cell_type": "code",
   "execution_count": 13,
   "metadata": {
    "ExecuteTime": {
     "end_time": "2021-05-10T23:20:02.084159Z",
     "start_time": "2021-05-10T23:20:01.537159Z"
    }
   },
   "outputs": [],
   "source": [
    "v_apogee_ids, counts = np.unique(\n",
    "    allvisit['APOGEE_ID'],\n",
    "    return_counts=True)"
   ]
  },
  {
   "cell_type": "code",
   "execution_count": 12,
   "metadata": {
    "ExecuteTime": {
     "end_time": "2021-05-10T23:19:50.414365Z",
     "start_time": "2021-05-10T23:19:48.770557Z"
    }
   },
   "outputs": [],
   "source": [
    "main_v_apogee_ids, main_counts = np.unique(\n",
    "    main_allvisit['APOGEE_ID'][np.isin(main_allvisit['APOGEE_ID'], allvisit['APOGEE_ID'])],\n",
    "    return_counts=True)"
   ]
  },
  {
   "cell_type": "code",
   "execution_count": 18,
   "metadata": {
    "ExecuteTime": {
     "end_time": "2021-05-10T23:21:17.048900Z",
     "start_time": "2021-05-10T23:21:17.041307Z"
    }
   },
   "outputs": [
    {
     "data": {
      "text/plain": [
       "(358352, 360706)"
      ]
     },
     "execution_count": 18,
     "metadata": {},
     "output_type": "execute_result"
    }
   ],
   "source": [
    "assert np.all(v_apogee_ids == main_v_apogee_ids)"
   ]
  },
  {
   "cell_type": "markdown",
   "metadata": {},
   "source": [
    "This also removes sources where >50% of visits were filtered"
   ]
  },
  {
   "cell_type": "code",
   "execution_count": 19,
   "metadata": {
    "ExecuteTime": {
     "end_time": "2021-05-10T23:22:17.768160Z",
     "start_time": "2021-05-10T23:22:15.696638Z"
    }
   },
   "outputs": [],
   "source": [
    "allstar_visit_mask = np.isin(\n",
    "    allstar['APOGEE_ID'],\n",
    "    v_apogee_ids[(counts >= min_nvisits) & (counts / main_counts > 0.5)]\n",
    ")\n",
    "allstar = allstar[allstar_visit_mask]\n",
    "allvisit = allvisit[np.isin(allvisit['APOGEE_ID'],\n",
    "                            allstar['APOGEE_ID'])]"
   ]
  },
  {
   "cell_type": "code",
   "execution_count": 20,
   "metadata": {
    "ExecuteTime": {
     "end_time": "2021-05-10T23:22:25.124285Z",
     "start_time": "2021-05-10T23:22:25.121532Z"
    }
   },
   "outputs": [
    {
     "name": "stdout",
     "output_type": "stream",
     "text": [
      "358350 unique stars left\n",
      "1917285 unique visits left\n"
     ]
    }
   ],
   "source": [
    "print(f\"{len(allstar)} unique stars left\")\n",
    "print(f\"{len(allvisit)} unique visits left\")"
   ]
  },
  {
   "cell_type": "code",
   "execution_count": 21,
   "metadata": {
    "ExecuteTime": {
     "end_time": "2021-05-10T23:22:37.436561Z",
     "start_time": "2021-05-10T23:22:36.879656Z"
    }
   },
   "outputs": [],
   "source": [
    "assert np.all(np.unique(allvisit['APOGEE_ID'], return_counts=True)[1] >= 3)"
   ]
  },
  {
   "cell_type": "code",
   "execution_count": 22,
   "metadata": {
    "ExecuteTime": {
     "end_time": "2021-05-10T23:22:39.105401Z",
     "start_time": "2021-05-10T23:22:39.102502Z"
    }
   },
   "outputs": [],
   "source": [
    "colnames = [\n",
    "    'APOGEE_ID',\n",
    "    'TARGET_ID',\n",
    "    'VISIT_ID',\n",
    "    'FILE',\n",
    "    'FIBERID',\n",
    "    'CARTID',\n",
    "    'PLATE',\n",
    "    'MJD',\n",
    "    'TELESCOPE',\n",
    "    'SURVEY',\n",
    "    'FIELD',\n",
    "    'SNR',\n",
    "    'STARFLAG',\n",
    "    'STARFLAGS',\n",
    "    'JD',\n",
    "    'VREL',\n",
    "    'VRELERR',\n",
    "    'VHELIO',\n",
    "    'AUTOFWHM',\n",
    "    'BC',\n",
    "    'N_COMPONENTS',\n",
    "    'RV_FLAG',\n",
    "    'CALIB_VERR'\n",
    "]"
   ]
  },
  {
   "cell_type": "code",
   "execution_count": 23,
   "metadata": {
    "ExecuteTime": {
     "end_time": "2021-05-10T23:22:39.457629Z",
     "start_time": "2021-05-10T23:22:39.455426Z"
    }
   },
   "outputs": [],
   "source": [
    "# weird hack\n",
    "allvisit.meta = None"
   ]
  },
  {
   "cell_type": "code",
   "execution_count": 25,
   "metadata": {
    "ExecuteTime": {
     "end_time": "2021-05-10T23:27:06.800675Z",
     "start_time": "2021-05-10T23:26:49.531199Z"
    }
   },
   "outputs": [],
   "source": [
    "basename = os.path.splitext(allvisit_file.parts[-1])[0]\n",
    "allvisit[colnames].write(\n",
    "    f'../../cache/{basename}-min{min_nvisits}-calibverr.fits',\n",
    "    overwrite=True)"
   ]
  },
  {
   "cell_type": "code",
   "execution_count": null,
   "metadata": {},
   "outputs": [],
   "source": []
  }
 ],
 "metadata": {
  "kernelspec": {
   "display_name": "conda-dr17",
   "language": "python",
   "name": "conda-dr17"
  },
  "language_info": {
   "codemirror_mode": {
    "name": "ipython",
    "version": 3
   },
   "file_extension": ".py",
   "mimetype": "text/x-python",
   "name": "python",
   "nbconvert_exporter": "python",
   "pygments_lexer": "ipython3",
   "version": "3.8.5"
  }
 },
 "nbformat": 4,
 "nbformat_minor": 4
}
