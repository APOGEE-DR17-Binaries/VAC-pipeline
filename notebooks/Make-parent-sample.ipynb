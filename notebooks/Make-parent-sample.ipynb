{
 "cells": [
  {
   "cell_type": "code",
   "execution_count": 1,
   "metadata": {},
   "outputs": [],
   "source": [
    "import pathlib\n",
    "\n",
    "import astropy.table as at\n",
    "import astropy.units as u\n",
    "import matplotlib as mpl\n",
    "import matplotlib.pyplot as plt\n",
    "%matplotlib inline\n",
    "import numpy as np"
   ]
  },
  {
   "cell_type": "code",
   "execution_count": 2,
   "metadata": {},
   "outputs": [],
   "source": [
    "min_nvisits = 3"
   ]
  },
  {
   "cell_type": "code",
   "execution_count": 3,
   "metadata": {},
   "outputs": [],
   "source": [
    "allstar_file = pathlib.Path(\n",
    "    '/mnt/home/apricewhelan/data/APOGEE_DR17/allStar-dr17-l33alpha.fits')\n",
    "\n",
    "allvisit_file = pathlib.Path(\n",
    "    '/mnt/home/apricewhelan/data/APOGEE_DR17/allVisitLite-dr17-l33alpha.fits')\n",
    "\n",
    "calib_verr_file = pathlib.Path(\n",
    "    '../cache/allVisitLite-dr17-l33alpha-calib-verr.fits')"
   ]
  },
  {
   "cell_type": "code",
   "execution_count": 4,
   "metadata": {},
   "outputs": [
    {
     "name": "stderr",
     "output_type": "stream",
     "text": [
      "WARNING: hdu= was not specified but multiple tables are present, reading in first available table (hdu=1) [astropy.io.fits.connect]\n"
     ]
    }
   ],
   "source": [
    "allstar = at.Table.read(allstar_file)\n",
    "allvisit = at.Table.read(allvisit_file)\n",
    "verr = at.Table.read(calib_verr_file)"
   ]
  },
  {
   "cell_type": "code",
   "execution_count": 5,
   "metadata": {},
   "outputs": [
    {
     "name": "stdout",
     "output_type": "stream",
     "text": [
      "Filtered 81234 bad/NaN/-9999 visits\n"
     ]
    }
   ],
   "source": [
    "# Remove bad velocities / NaN / Inf values:\n",
    "bad_visit_mask = (\n",
    "    np.isfinite(allvisit['VHELIO']) &\n",
    "    np.isfinite(allvisit['VRELERR']) &\n",
    "    (allvisit['VRELERR'] < 100.) &\n",
    "    (allvisit['VHELIO'] != -9999) &\n",
    "    (np.abs(allvisit['VHELIO']) < 500.)\n",
    ")\n",
    "print(f\"Filtered {len(bad_visit_mask) - bad_visit_mask.sum()} \"\n",
    "      \"bad/NaN/-9999 visits\")\n",
    "allvisit = allvisit[bad_visit_mask]"
   ]
  },
  {
   "cell_type": "code",
   "execution_count": 6,
   "metadata": {},
   "outputs": [
    {
     "name": "stdout",
     "output_type": "stream",
     "text": [
      "Using allstar STARFLAG bitmask 65544), filtered 16 sources\n",
      "Using allvisit STARFLAG bitmask 65544), filtered 0 visits\n"
     ]
    }
   ],
   "source": [
    "# VERY_BRIGHT_NEIGHBOR, SUSPECT_RV_COMBINATION\n",
    "star_starflag_bits = [3, 16]\n",
    "visit_starflag_bits = star_starflag_bits\n",
    "\n",
    "star_starflag_val = np.sum(2 ** np.array(star_starflag_bits))\n",
    "visit_starflag_val = np.sum(2 ** np.array(visit_starflag_bits))\n",
    "star_starflag_mask = (allstar['STARFLAG'] & star_starflag_val) == 0\n",
    "visit_starflag_mask = (allvisit['STARFLAG'] & visit_starflag_val) == 0\n",
    "\n",
    "print(f\"Using allstar STARFLAG bitmask {star_starflag_val}), \"\n",
    "      f\"filtered {len(allstar) - star_starflag_mask.sum()} sources\")\n",
    "print(f\"Using allvisit STARFLAG bitmask {visit_starflag_val}), \"\n",
    "      f\"filtered {len(allvisit) - visit_starflag_mask.sum()} visits\")"
   ]
  },
  {
   "cell_type": "code",
   "execution_count": 7,
   "metadata": {},
   "outputs": [
    {
     "name": "stdout",
     "output_type": "stream",
     "text": [
      "Applying allvisit RVFLAG mask, filtered 327587 visits\n",
      "Keeping only sources with > 3 visits: filtered 285298 sources\n"
     ]
    }
   ],
   "source": [
    "# apply new (DR17) RV_FLAG masking:\n",
    "# TODO: audit this when Holtz tells me what the flags are!!\n",
    "rvflag_mask = allvisit['RV_FLAG'] == 0\n",
    "# visit_rvflag_val = np.sum(2 ** np.array(rvflag_bits))\n",
    "# rvflag_mask = (allstar['RVFLAG'] & visit_rvflag_val) == 0\n",
    "\n",
    "print(f\"Applying allvisit RVFLAG mask, filtered \"\n",
    "      f\"{len(allvisit) - rvflag_mask.sum()} visits\")\n",
    "\n",
    "# After quality and bitmask cut, figure out what APOGEE_IDs remain\n",
    "allvisit = allvisit[visit_starflag_mask & rvflag_mask]\n",
    "v_apogee_ids, counts = np.unique(allvisit['APOGEE_ID'],\n",
    "                                 return_counts=True)\n",
    "allstar_visit_mask = np.isin(allstar['APOGEE_ID'],\n",
    "                             v_apogee_ids[counts >= min_nvisits])\n",
    "print(f\"Keeping only sources with > {min_nvisits} visits: filtered \"\n",
    "      f\"{len(allstar_visit_mask) - allstar_visit_mask.sum()} sources\")"
   ]
  },
  {
   "cell_type": "code",
   "execution_count": 8,
   "metadata": {},
   "outputs": [
    {
     "name": "stdout",
     "output_type": "stream",
     "text": [
      "Using allstar ASPCAPFLAG bitmask 1141309440, filtered 37013\n"
     ]
    }
   ],
   "source": [
    "# TEFF_BAD, LOGG_BAD, VMICRO_BAD, ROTATION_BAD, VSINI_BAD\n",
    "aspcapflag_bits = [16, 17, 18, 26, 30]\n",
    "\n",
    "aspcapflag_val = np.sum(2 ** np.array(aspcapflag_bits))\n",
    "aspcapflag_mask = (allstar['ASPCAPFLAG'] & aspcapflag_val) == 0\n",
    "print(f\"Using allstar ASPCAPFLAG bitmask {aspcapflag_val}, \"\n",
    "      f\"filtered {len(allstar) - aspcapflag_mask.sum()}\")\n",
    "\n",
    "allstar = allstar[allstar_visit_mask &\n",
    "                  star_starflag_mask &\n",
    "                  aspcapflag_mask]\n",
    "\n",
    "# Only load visits for stars that we're loading\n",
    "allvisit = allvisit[np.isin(allvisit['APOGEE_ID'],\n",
    "                            allstar['APOGEE_ID'])]\n",
    "v_apogee_ids2 = np.unique(allvisit['APOGEE_ID'])\n",
    "star_mask2 = np.isin(allstar['APOGEE_ID'], v_apogee_ids2)\n",
    "allstar = allstar[star_mask2]\n",
    "\n",
    "_, idx = np.unique(allstar['APOGEE_ID'], return_index=True)\n",
    "allstar = allstar[idx]\n",
    "\n",
    "allvisit = allvisit[np.isin(allvisit['APOGEE_ID'],\n",
    "                            allstar['APOGEE_ID'])]"
   ]
  },
  {
   "cell_type": "code",
   "execution_count": 11,
   "metadata": {},
   "outputs": [],
   "source": [
    "# TODO: change to VISITID with final DR17 version\n",
    "allvisit = at.join(allvisit, verr, keys=('APOGEE_ID', 'PLATE', 'MJD', 'FIBERID'))"
   ]
  },
  {
   "cell_type": "markdown",
   "metadata": {},
   "source": [
    "Final check for min nvisits:"
   ]
  },
  {
   "cell_type": "code",
   "execution_count": 12,
   "metadata": {},
   "outputs": [],
   "source": [
    "v_apogee_ids, counts = np.unique(allvisit['APOGEE_ID'],\n",
    "                                 return_counts=True)\n",
    "allstar_visit_mask = np.isin(allstar['APOGEE_ID'],\n",
    "                             v_apogee_ids[counts >= min_nvisits])\n",
    "allstar = allstar[allstar_visit_mask]\n",
    "allvisit = allvisit[np.isin(allvisit['APOGEE_ID'],\n",
    "                            allstar['APOGEE_ID'])]"
   ]
  },
  {
   "cell_type": "code",
   "execution_count": 13,
   "metadata": {},
   "outputs": [
    {
     "name": "stdout",
     "output_type": "stream",
     "text": [
      "342276 unique stars left\n",
      "1665533 unique visits left\n"
     ]
    }
   ],
   "source": [
    "print(f\"{len(allstar)} unique stars left\")\n",
    "print(f\"{len(allvisit)} unique visits left\")"
   ]
  },
  {
   "cell_type": "code",
   "execution_count": 16,
   "metadata": {},
   "outputs": [
    {
     "data": {
      "text/plain": [
       "342276"
      ]
     },
     "execution_count": 16,
     "metadata": {},
     "output_type": "execute_result"
    }
   ],
   "source": [
    "np.unique(allvisit['APOGEE_ID']).size"
   ]
  },
  {
   "cell_type": "code",
   "execution_count": 18,
   "metadata": {},
   "outputs": [],
   "source": [
    "allvisit.write(f'../cache/visits-dr17alpha-min{min_nvisits}-calibverr.fits',\n",
    "               overwrite=True)"
   ]
  },
  {
   "cell_type": "code",
   "execution_count": null,
   "metadata": {},
   "outputs": [],
   "source": []
  }
 ],
 "metadata": {
  "kernelspec": {
   "display_name": "conda-dr17",
   "language": "python",
   "name": "conda-dr17"
  },
  "language_info": {
   "codemirror_mode": {
    "name": "ipython",
    "version": 3
   },
   "file_extension": ".py",
   "mimetype": "text/x-python",
   "name": "python",
   "nbconvert_exporter": "python",
   "pygments_lexer": "ipython3",
   "version": "3.8.5"
  }
 },
 "nbformat": 4,
 "nbformat_minor": 4
}
